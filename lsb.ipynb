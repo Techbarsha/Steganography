{
 "cells": [
  {
   "cell_type": "code",
   "execution_count": 87,
   "metadata": {},
   "outputs": [],
   "source": [
    "from PIL import Image\n",
    "import numpy as np"
   ]
  },
  {
   "cell_type": "code",
   "execution_count": 88,
   "metadata": {},
   "outputs": [],
   "source": [
    "img = np.asarray(Image.open('images/treeBW.png'))"
   ]
  },
  {
   "cell_type": "code",
   "execution_count": 89,
   "metadata": {},
   "outputs": [],
   "source": [
    "W,H = img.shape\n"
   ]
  },
  {
   "cell_type": "code",
   "execution_count": 90,
   "metadata": {},
   "outputs": [],
   "source": [
    "message = input()\n",
    "message += '[END]'\n",
    "message = message.encode('ascii')\n",
    "message_bits = ''.join([format(i,'08b') for i in message])"
   ]
  },
  {
   "cell_type": "code",
   "execution_count": 91,
   "metadata": {},
   "outputs": [],
   "source": [
    "img = img.flatten()\n",
    "for idx, bit in enumerate(message_bits):\n",
    "    val = img[idx]\n",
    "    val = bin(val)\n",
    "    val = val[:-1] + bit\n",
    "    img[idx] = int(val,2)\n",
    "img = img.reshape((W,H))"
   ]
  },
  {
   "cell_type": "code",
   "execution_count": 92,
   "metadata": {},
   "outputs": [],
   "source": [
    "img = Image.fromarray(img)\n",
    "img.save(\"images/tree_modified.png\")"
   ]
  },
  {
   "cell_type": "code",
   "execution_count": 93,
   "metadata": {},
   "outputs": [],
   "source": [
    "img = np.asarray(Image.open('images/tree_modified.png'))\n",
    "img = img.flatten()\n",
    "msg = \"\"\n",
    "idx = 0\n",
    "while msg[-5:] != '[END]':\n",
    "    bits = [bin(i)[-1] for i in img[idx:idx+8]]\n",
    "    bits = ''.join(bits)\n",
    "    msg += chr(int(bits,2))\n",
    "    idx+=8\n",
    "    if idx > img.shape[0]:\n",
    "        print(\"No hidden message\")\n",
    "        break\n",
    "\n"
   ]
  },
  {
   "cell_type": "code",
   "execution_count": 94,
   "metadata": {},
   "outputs": [
    {
     "data": {
      "text/plain": [
       "'An Image is worth a thousand words. Indeed, it is. I mean just look at the size of the image. In fact, the entire text written in this post is embedded in this image in its least significant bits. That is of course unless Linkedin screws my post with lossy compression. Find the code at https://github.com/cmaspi/Steganography[END]'"
      ]
     },
     "execution_count": 94,
     "metadata": {},
     "output_type": "execute_result"
    }
   ],
   "source": [
    "msg"
   ]
  },
  {
   "cell_type": "code",
   "execution_count": null,
   "metadata": {},
   "outputs": [],
   "source": []
  }
 ],
 "metadata": {
  "interpreter": {
   "hash": "916dbcbb3f70747c44a77c7bcd40155683ae19c65e1c03b4aa3499c5328201f1"
  },
  "kernelspec": {
   "display_name": "Python 3.10.4 64-bit",
   "language": "python",
   "name": "python3"
  },
  "language_info": {
   "codemirror_mode": {
    "name": "ipython",
    "version": 3
   },
   "file_extension": ".py",
   "mimetype": "text/x-python",
   "name": "python",
   "nbconvert_exporter": "python",
   "pygments_lexer": "ipython3",
   "version": "3.10.4"
  },
  "orig_nbformat": 4
 },
 "nbformat": 4,
 "nbformat_minor": 2
}
